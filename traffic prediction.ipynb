{
 "cells": [
  {
   "cell_type": "code",
   "execution_count": 1,
   "id": "a1a88b2a",
   "metadata": {},
   "outputs": [],
   "source": [
    "import numpy as np\n",
    "import pandas as pd\n",
    "import matplotlib.pyplot as plt\n",
    "import seaborn as sns\n",
    "from sklearn import preprocessing "
   ]
  },
  {
   "cell_type": "code",
   "execution_count": 2,
   "id": "f0f0967b",
   "metadata": {},
   "outputs": [],
   "source": [
    "df=pd.read_csv('Traffic.csv')"
   ]
  },
  {
   "cell_type": "code",
   "execution_count": 3,
   "id": "6b3afa43",
   "metadata": {},
   "outputs": [
    {
     "data": {
      "text/html": [
       "<div>\n",
       "<style scoped>\n",
       "    .dataframe tbody tr th:only-of-type {\n",
       "        vertical-align: middle;\n",
       "    }\n",
       "\n",
       "    .dataframe tbody tr th {\n",
       "        vertical-align: top;\n",
       "    }\n",
       "\n",
       "    .dataframe thead th {\n",
       "        text-align: right;\n",
       "    }\n",
       "</style>\n",
       "<table border=\"1\" class=\"dataframe\">\n",
       "  <thead>\n",
       "    <tr style=\"text-align: right;\">\n",
       "      <th></th>\n",
       "      <th>Time</th>\n",
       "      <th>Date</th>\n",
       "      <th>Day of the week</th>\n",
       "      <th>CarCount</th>\n",
       "      <th>BikeCount</th>\n",
       "      <th>BusCount</th>\n",
       "      <th>TruckCount</th>\n",
       "      <th>Total</th>\n",
       "      <th>Traffic Situation</th>\n",
       "    </tr>\n",
       "  </thead>\n",
       "  <tbody>\n",
       "    <tr>\n",
       "      <th>0</th>\n",
       "      <td>12:00:00 AM</td>\n",
       "      <td>10</td>\n",
       "      <td>Tuesday</td>\n",
       "      <td>31</td>\n",
       "      <td>0</td>\n",
       "      <td>4</td>\n",
       "      <td>4</td>\n",
       "      <td>39</td>\n",
       "      <td>low</td>\n",
       "    </tr>\n",
       "    <tr>\n",
       "      <th>1</th>\n",
       "      <td>12:15:00 AM</td>\n",
       "      <td>10</td>\n",
       "      <td>Tuesday</td>\n",
       "      <td>49</td>\n",
       "      <td>0</td>\n",
       "      <td>3</td>\n",
       "      <td>3</td>\n",
       "      <td>55</td>\n",
       "      <td>low</td>\n",
       "    </tr>\n",
       "    <tr>\n",
       "      <th>2</th>\n",
       "      <td>12:30:00 AM</td>\n",
       "      <td>10</td>\n",
       "      <td>Tuesday</td>\n",
       "      <td>46</td>\n",
       "      <td>0</td>\n",
       "      <td>3</td>\n",
       "      <td>6</td>\n",
       "      <td>55</td>\n",
       "      <td>low</td>\n",
       "    </tr>\n",
       "    <tr>\n",
       "      <th>3</th>\n",
       "      <td>12:45:00 AM</td>\n",
       "      <td>10</td>\n",
       "      <td>Tuesday</td>\n",
       "      <td>51</td>\n",
       "      <td>0</td>\n",
       "      <td>2</td>\n",
       "      <td>5</td>\n",
       "      <td>58</td>\n",
       "      <td>low</td>\n",
       "    </tr>\n",
       "    <tr>\n",
       "      <th>4</th>\n",
       "      <td>1:00:00 AM</td>\n",
       "      <td>10</td>\n",
       "      <td>Tuesday</td>\n",
       "      <td>57</td>\n",
       "      <td>6</td>\n",
       "      <td>15</td>\n",
       "      <td>16</td>\n",
       "      <td>94</td>\n",
       "      <td>normal</td>\n",
       "    </tr>\n",
       "  </tbody>\n",
       "</table>\n",
       "</div>"
      ],
      "text/plain": [
       "          Time  Date Day of the week  CarCount  BikeCount  BusCount  \\\n",
       "0  12:00:00 AM    10         Tuesday        31          0         4   \n",
       "1  12:15:00 AM    10         Tuesday        49          0         3   \n",
       "2  12:30:00 AM    10         Tuesday        46          0         3   \n",
       "3  12:45:00 AM    10         Tuesday        51          0         2   \n",
       "4   1:00:00 AM    10         Tuesday        57          6        15   \n",
       "\n",
       "   TruckCount  Total Traffic Situation  \n",
       "0           4     39               low  \n",
       "1           3     55               low  \n",
       "2           6     55               low  \n",
       "3           5     58               low  \n",
       "4          16     94            normal  "
      ]
     },
     "execution_count": 3,
     "metadata": {},
     "output_type": "execute_result"
    }
   ],
   "source": [
    "df.head()"
   ]
  },
  {
   "cell_type": "code",
   "execution_count": 4,
   "id": "078d8ce3",
   "metadata": {},
   "outputs": [
    {
     "data": {
      "text/plain": [
       "(2976, 9)"
      ]
     },
     "execution_count": 4,
     "metadata": {},
     "output_type": "execute_result"
    }
   ],
   "source": [
    "df.shape"
   ]
  },
  {
   "cell_type": "code",
   "execution_count": 5,
   "id": "587ae89c",
   "metadata": {},
   "outputs": [
    {
     "name": "stdout",
     "output_type": "stream",
     "text": [
      "<class 'pandas.core.frame.DataFrame'>\n",
      "RangeIndex: 2976 entries, 0 to 2975\n",
      "Data columns (total 9 columns):\n",
      " #   Column             Non-Null Count  Dtype \n",
      "---  ------             --------------  ----- \n",
      " 0   Time               2976 non-null   object\n",
      " 1   Date               2976 non-null   int64 \n",
      " 2   Day of the week    2976 non-null   object\n",
      " 3   CarCount           2976 non-null   int64 \n",
      " 4   BikeCount          2976 non-null   int64 \n",
      " 5   BusCount           2976 non-null   int64 \n",
      " 6   TruckCount         2976 non-null   int64 \n",
      " 7   Total              2976 non-null   int64 \n",
      " 8   Traffic Situation  2976 non-null   object\n",
      "dtypes: int64(6), object(3)\n",
      "memory usage: 209.4+ KB\n"
     ]
    }
   ],
   "source": [
    "df.info()"
   ]
  },
  {
   "cell_type": "code",
   "execution_count": 6,
   "id": "77ab7e7b",
   "metadata": {},
   "outputs": [
    {
     "data": {
      "text/plain": [
       "Time                 0\n",
       "Date                 0\n",
       "Day of the week      0\n",
       "CarCount             0\n",
       "BikeCount            0\n",
       "BusCount             0\n",
       "TruckCount           0\n",
       "Total                0\n",
       "Traffic Situation    0\n",
       "dtype: int64"
      ]
     },
     "execution_count": 6,
     "metadata": {},
     "output_type": "execute_result"
    }
   ],
   "source": [
    "df.isnull().sum()"
   ]
  },
  {
   "cell_type": "code",
   "execution_count": 7,
   "id": "b3e0163c",
   "metadata": {},
   "outputs": [
    {
     "data": {
      "text/plain": [
       "<Axes: xlabel='Day of the week', ylabel='Count'>"
      ]
     },
     "execution_count": 7,
     "metadata": {},
     "output_type": "execute_result"
    },
    {
     "data": {
      "image/png": "[encoded data removed]",
      "text/plain": [
       "<Figure size 1600x900 with 1 Axes>"
      ]
     },
     "metadata": {},
     "output_type": "display_data"
    }
   ],
   "source": [
    "plt.figure(figsize=(16,9))\n",
    "sns.histplot(data=df, x=\"Day of the week\", hue=\"Traffic Situation\")"
   ]
  },
  {
   "cell_type": "code",
   "execution_count": 8,
   "id": "eed0d0ed",
   "metadata": {},
   "outputs": [
    {
     "data": {
      "text/plain": [
       "<Axes: xlabel='Total', ylabel='Count'>"
      ]
     },
     "execution_count": 8,
     "metadata": {},
     "output_type": "execute_result"
    },
    {
     "data": {
      "image/png": "[encoded data removed]",
      "text/plain": [
       "<Figure size 640x480 with 1 Axes>"
      ]
     },
     "metadata": {},
     "output_type": "display_data"
    }
   ],
   "source": [
    "sns.histplot(data=df, x=\"Total\", hue=\"Traffic Situation\")"
   ]
  },
  {
   "cell_type": "code",
   "execution_count": 9,
   "id": "c1d2926b",
   "metadata": {},
   "outputs": [
    {
     "data": {
      "text/plain": [
       "Index(['Time', 'Date', 'Day of the week', 'CarCount', 'BikeCount', 'BusCount',\n",
       "       'TruckCount', 'Total', 'Traffic Situation'],\n",
       "      dtype='object')"
      ]
     },
     "execution_count": 9,
     "metadata": {},
     "output_type": "execute_result"
    }
   ],
   "source": [
    "df.columns"
   ]
  },
  {
   "cell_type": "code",
   "execution_count": 10,
   "id": "4b24a9b8",
   "metadata": {},
   "outputs": [
    {
     "data": {
      "text/plain": [
       "46     37\n",
       "42     36\n",
       "53     31\n",
       "55     30\n",
       "49     30\n",
       "       ..\n",
       "21      1\n",
       "278     1\n",
       "245     1\n",
       "244     1\n",
       "22      1\n",
       "Name: Total, Length: 239, dtype: int64"
      ]
     },
     "execution_count": 10,
     "metadata": {},
     "output_type": "execute_result"
    }
   ],
   "source": [
    "df['Total'].value_counts()"
   ]
  },
  {
   "cell_type": "code",
   "execution_count": 11,
   "id": "b8ed2460",
   "metadata": {},
   "outputs": [
    {
     "data": {
      "text/plain": [
       "normal    1669\n",
       "heavy      682\n",
       "high       321\n",
       "low        304\n",
       "Name: Traffic Situation, dtype: int64"
      ]
     },
     "execution_count": 11,
     "metadata": {},
     "output_type": "execute_result"
    }
   ],
   "source": [
    "# Distinct Classes in Target variable\n",
    "df['Traffic Situation'].value_counts()"
   ]
  },
  {
   "cell_type": "code",
   "execution_count": 12,
   "id": "6ded3127",
   "metadata": {},
   "outputs": [],
   "source": [
    "#Removing AM and PM from Time column\n",
    "#df['Time'] = df['Time'].str.replace(' AM', '').str.replace(' PM', '')\n",
    "df['Temp'] = df['Time'].apply(lambda x: x.split(' ')[1]) #Temporary column for AM/PM\n",
    "df['AM/PM'] = df['Temp'].replace({'AM':0,'PM':1})\n",
    "df=df.drop(['Temp'],axis=1)"
   ]
  },
  {
   "cell_type": "code",
   "execution_count": 13,
   "id": "f47f2b1d",
   "metadata": {},
   "outputs": [],
   "source": [
    "#This time format cannot be used in Algorithm\n",
    "#Converting with respect to hours and minutes\n",
    "\n",
    "df['hour'] = pd.to_datetime(df['Time']).dt.hour\n",
    "df['minute'] = pd.to_datetime(df['Time']).dt.minute\n",
    "\n",
    "#Removing Time column\n",
    "df = df.drop(['Time'],axis = 1)\n"
   ]
  },
  {
   "cell_type": "code",
   "execution_count": 14,
   "id": "147838fc",
   "metadata": {},
   "outputs": [
    {
     "data": {
      "text/html": [
       "<div>\n",
       "<style scoped>\n",
       "    .dataframe tbody tr th:only-of-type {\n",
       "        vertical-align: middle;\n",
       "    }\n",
       "\n",
       "    .dataframe tbody tr th {\n",
       "        vertical-align: top;\n",
       "    }\n",
       "\n",
       "    .dataframe thead th {\n",
       "        text-align: right;\n",
       "    }\n",
       "</style>\n",
       "<table border=\"1\" class=\"dataframe\">\n",
       "  <thead>\n",
       "    <tr style=\"text-align: right;\">\n",
       "      <th></th>\n",
       "      <th>Date</th>\n",
       "      <th>Day of the week</th>\n",
       "      <th>Total</th>\n",
       "      <th>Traffic Situation</th>\n",
       "      <th>AM/PM</th>\n",
       "      <th>hour</th>\n",
       "      <th>minute</th>\n",
       "    </tr>\n",
       "  </thead>\n",
       "  <tbody>\n",
       "    <tr>\n",
       "      <th>0</th>\n",
       "      <td>10</td>\n",
       "      <td>Tuesday</td>\n",
       "      <td>39</td>\n",
       "      <td>low</td>\n",
       "      <td>0</td>\n",
       "      <td>0</td>\n",
       "      <td>0</td>\n",
       "    </tr>\n",
       "    <tr>\n",
       "      <th>1</th>\n",
       "      <td>10</td>\n",
       "      <td>Tuesday</td>\n",
       "      <td>55</td>\n",
       "      <td>low</td>\n",
       "      <td>0</td>\n",
       "      <td>0</td>\n",
       "      <td>15</td>\n",
       "    </tr>\n",
       "    <tr>\n",
       "      <th>2</th>\n",
       "      <td>10</td>\n",
       "      <td>Tuesday</td>\n",
       "      <td>55</td>\n",
       "      <td>low</td>\n",
       "      <td>0</td>\n",
       "      <td>0</td>\n",
       "      <td>30</td>\n",
       "    </tr>\n",
       "    <tr>\n",
       "      <th>3</th>\n",
       "      <td>10</td>\n",
       "      <td>Tuesday</td>\n",
       "      <td>58</td>\n",
       "      <td>low</td>\n",
       "      <td>0</td>\n",
       "      <td>0</td>\n",
       "      <td>45</td>\n",
       "    </tr>\n",
       "    <tr>\n",
       "      <th>4</th>\n",
       "      <td>10</td>\n",
       "      <td>Tuesday</td>\n",
       "      <td>94</td>\n",
       "      <td>normal</td>\n",
       "      <td>0</td>\n",
       "      <td>1</td>\n",
       "      <td>0</td>\n",
       "    </tr>\n",
       "    <tr>\n",
       "      <th>...</th>\n",
       "      <td>...</td>\n",
       "      <td>...</td>\n",
       "      <td>...</td>\n",
       "      <td>...</td>\n",
       "      <td>...</td>\n",
       "      <td>...</td>\n",
       "      <td>...</td>\n",
       "    </tr>\n",
       "    <tr>\n",
       "      <th>2971</th>\n",
       "      <td>9</td>\n",
       "      <td>Thursday</td>\n",
       "      <td>56</td>\n",
       "      <td>normal</td>\n",
       "      <td>1</td>\n",
       "      <td>22</td>\n",
       "      <td>45</td>\n",
       "    </tr>\n",
       "    <tr>\n",
       "      <th>2972</th>\n",
       "      <td>9</td>\n",
       "      <td>Thursday</td>\n",
       "      <td>42</td>\n",
       "      <td>normal</td>\n",
       "      <td>1</td>\n",
       "      <td>23</td>\n",
       "      <td>0</td>\n",
       "    </tr>\n",
       "    <tr>\n",
       "      <th>2973</th>\n",
       "      <td>9</td>\n",
       "      <td>Thursday</td>\n",
       "      <td>45</td>\n",
       "      <td>normal</td>\n",
       "      <td>1</td>\n",
       "      <td>23</td>\n",
       "      <td>15</td>\n",
       "    </tr>\n",
       "    <tr>\n",
       "      <th>2974</th>\n",
       "      <td>9</td>\n",
       "      <td>Thursday</td>\n",
       "      <td>48</td>\n",
       "      <td>normal</td>\n",
       "      <td>1</td>\n",
       "      <td>23</td>\n",
       "      <td>30</td>\n",
       "    </tr>\n",
       "    <tr>\n",
       "      <th>2975</th>\n",
       "      <td>9</td>\n",
       "      <td>Thursday</td>\n",
       "      <td>33</td>\n",
       "      <td>normal</td>\n",
       "      <td>1</td>\n",
       "      <td>23</td>\n",
       "      <td>45</td>\n",
       "    </tr>\n",
       "  </tbody>\n",
       "</table>\n",
       "<p>2976 rows × 7 columns</p>\n",
       "</div>"
      ],
      "text/plain": [
       "      Date Day of the week  Total Traffic Situation  AM/PM  hour  minute\n",
       "0       10         Tuesday     39               low      0     0       0\n",
       "1       10         Tuesday     55               low      0     0      15\n",
       "2       10         Tuesday     55               low      0     0      30\n",
       "3       10         Tuesday     58               low      0     0      45\n",
       "4       10         Tuesday     94            normal      0     1       0\n",
       "...    ...             ...    ...               ...    ...   ...     ...\n",
       "2971     9        Thursday     56            normal      1    22      45\n",
       "2972     9        Thursday     42            normal      1    23       0\n",
       "2973     9        Thursday     45            normal      1    23      15\n",
       "2974     9        Thursday     48            normal      1    23      30\n",
       "2975     9        Thursday     33            normal      1    23      45\n",
       "\n",
       "[2976 rows x 7 columns]"
      ]
     },
     "execution_count": 14,
     "metadata": {},
     "output_type": "execute_result"
    }
   ],
   "source": [
    "#removing carcount bikecount and truckcount\n",
    "df=df.drop(columns= ['CarCount', 'BikeCount', 'TruckCount','BusCount'], axis=1)\n",
    "df"
   ]
  },
  {
   "cell_type": "code",
   "execution_count": 15,
   "id": "f91a86fa",
   "metadata": {},
   "outputs": [
    {
     "data": {
      "text/plain": [
       "Tuesday      480\n",
       "Wednesday    480\n",
       "Thursday     480\n",
       "Friday       384\n",
       "Saturday     384\n",
       "Sunday       384\n",
       "Monday       384\n",
       "Name: Day of the week, dtype: int64"
      ]
     },
     "execution_count": 15,
     "metadata": {},
     "output_type": "execute_result"
    }
   ],
   "source": [
    "df['Day of the week'].value_counts()"
   ]
  },
  {
   "cell_type": "code",
   "execution_count": 16,
   "id": "434e7e1d",
   "metadata": {},
   "outputs": [
    {
     "data": {
      "text/plain": [
       "normal    1669\n",
       "heavy      682\n",
       "high       321\n",
       "low        304\n",
       "Name: Traffic Situation, dtype: int64"
      ]
     },
     "execution_count": 16,
     "metadata": {},
     "output_type": "execute_result"
    }
   ],
   "source": [
    "df['Traffic Situation'].value_counts()"
   ]
  },
  {
   "cell_type": "code",
   "execution_count": 17,
   "id": "6646f3a6",
   "metadata": {},
   "outputs": [],
   "source": [
    "#Transforming the day of the week and Traffic into numeric values \n",
    "\n",
    "#label_encoder = preprocessing.LabelEncoder()\n",
    "#df['Day of the week']= label_encoder.fit_transform(df['Day of the week'])\n",
    "#df['Traffic Situation']= label_encoder.fit_transform(df['Traffic Situation'])\n",
    "df['Traffic Situation'] = df['Traffic Situation'].replace({'low':0, 'normal':1, \n",
    "                                                              'heavy':2, 'high':3})\n",
    "\n",
    "df['Day of the week'] = df['Day of the week'].replace({'Monday':1,'Tuesday':2,\n",
    "                                                          'Wednesday':3,'Thursday':4,\n",
    "                                                          'Friday':5,'Saturday':6,\n",
    "                                                          'Sunday':7})"
   ]
  },
  {
   "cell_type": "code",
   "execution_count": 18,
   "id": "404decd9",
   "metadata": {},
   "outputs": [
    {
     "data": {
      "text/plain": [
       "2    480\n",
       "3    480\n",
       "4    480\n",
       "5    384\n",
       "6    384\n",
       "7    384\n",
       "1    384\n",
       "Name: Day of the week, dtype: int64"
      ]
     },
     "execution_count": 18,
     "metadata": {},
     "output_type": "execute_result"
    }
   ],
   "source": [
    "df['Day of the week'].value_counts()"
   ]
  },
  {
   "cell_type": "code",
   "execution_count": 19,
   "id": "d57772a1",
   "metadata": {},
   "outputs": [
    {
     "data": {
      "text/plain": [
       "1    1669\n",
       "2     682\n",
       "3     321\n",
       "0     304\n",
       "Name: Traffic Situation, dtype: int64"
      ]
     },
     "execution_count": 19,
     "metadata": {},
     "output_type": "execute_result"
    }
   ],
   "source": [
    "df['Traffic Situation'].value_counts()"
   ]
  },
  {
   "cell_type": "code",
   "execution_count": 20,
   "id": "7012b887",
   "metadata": {},
   "outputs": [],
   "source": [
    "X = df.drop(['Traffic Situation'],axis =1)\n",
    "Y = df['Traffic Situation']"
   ]
  },
  {
   "cell_type": "code",
   "execution_count": 21,
   "id": "72733214",
   "metadata": {},
   "outputs": [],
   "source": [
    "from sklearn.model_selection import train_test_split"
   ]
  },
  {
   "cell_type": "code",
   "execution_count": 22,
   "id": "341c7ec5",
   "metadata": {},
   "outputs": [],
   "source": [
    "X_train, X_test, y_train, y_test = train_test_split(X, Y, test_size=0.15, random_state=13)"
   ]
  },
  {
   "cell_type": "code",
   "execution_count": 23,
   "id": "629d10c3",
   "metadata": {
    "scrolled": true
   },
   "outputs": [
    {
     "data": {
      "text/html": [
       "<div>\n",
       "<style scoped>\n",
       "    .dataframe tbody tr th:only-of-type {\n",
       "        vertical-align: middle;\n",
       "    }\n",
       "\n",
       "    .dataframe tbody tr th {\n",
       "        vertical-align: top;\n",
       "    }\n",
       "\n",
       "    .dataframe thead th {\n",
       "        text-align: right;\n",
       "    }\n",
       "</style>\n",
       "<table border=\"1\" class=\"dataframe\">\n",
       "  <thead>\n",
       "    <tr style=\"text-align: right;\">\n",
       "      <th></th>\n",
       "      <th>Date</th>\n",
       "      <th>Day of the week</th>\n",
       "      <th>Total</th>\n",
       "      <th>AM/PM</th>\n",
       "      <th>hour</th>\n",
       "      <th>minute</th>\n",
       "    </tr>\n",
       "  </thead>\n",
       "  <tbody>\n",
       "    <tr>\n",
       "      <th>1373</th>\n",
       "      <td>24</td>\n",
       "      <td>2</td>\n",
       "      <td>229</td>\n",
       "      <td>0</td>\n",
       "      <td>7</td>\n",
       "      <td>15</td>\n",
       "    </tr>\n",
       "    <tr>\n",
       "      <th>1756</th>\n",
       "      <td>28</td>\n",
       "      <td>6</td>\n",
       "      <td>160</td>\n",
       "      <td>0</td>\n",
       "      <td>7</td>\n",
       "      <td>0</td>\n",
       "    </tr>\n",
       "    <tr>\n",
       "      <th>2796</th>\n",
       "      <td>8</td>\n",
       "      <td>3</td>\n",
       "      <td>40</td>\n",
       "      <td>0</td>\n",
       "      <td>3</td>\n",
       "      <td>0</td>\n",
       "    </tr>\n",
       "    <tr>\n",
       "      <th>2060</th>\n",
       "      <td>31</td>\n",
       "      <td>2</td>\n",
       "      <td>87</td>\n",
       "      <td>0</td>\n",
       "      <td>11</td>\n",
       "      <td>0</td>\n",
       "    </tr>\n",
       "    <tr>\n",
       "      <th>1492</th>\n",
       "      <td>25</td>\n",
       "      <td>3</td>\n",
       "      <td>89</td>\n",
       "      <td>1</td>\n",
       "      <td>13</td>\n",
       "      <td>0</td>\n",
       "    </tr>\n",
       "  </tbody>\n",
       "</table>\n",
       "</div>"
      ],
      "text/plain": [
       "      Date  Day of the week  Total  AM/PM  hour  minute\n",
       "1373    24                2    229      0     7      15\n",
       "1756    28                6    160      0     7       0\n",
       "2796     8                3     40      0     3       0\n",
       "2060    31                2     87      0    11       0\n",
       "1492    25                3     89      1    13       0"
      ]
     },
     "execution_count": 23,
     "metadata": {},
     "output_type": "execute_result"
    }
   ],
   "source": [
    "X_test.head()"
   ]
  },
  {
   "cell_type": "code",
   "execution_count": 24,
   "id": "393cd0ca",
   "metadata": {},
   "outputs": [
    {
     "data": {
      "text/plain": [
       "1373    2\n",
       "1756    3\n",
       "2796    1\n",
       "2060    1\n",
       "1492    1\n",
       "Name: Traffic Situation, dtype: int64"
      ]
     },
     "execution_count": 24,
     "metadata": {},
     "output_type": "execute_result"
    }
   ],
   "source": [
    "y_test.head()"
   ]
  },
  {
   "cell_type": "code",
   "execution_count": 25,
   "id": "395235b7",
   "metadata": {},
   "outputs": [],
   "source": [
    "from sklearn.ensemble import RandomForestClassifier\n",
    "from sklearn.metrics import accuracy_score"
   ]
  },
  {
   "cell_type": "code",
   "execution_count": 26,
   "id": "638dbc2b",
   "metadata": {},
   "outputs": [
    {
     "name": "stdout",
     "output_type": "stream",
     "text": [
      "Accuracy: 84.78747203579418\n"
     ]
    }
   ],
   "source": [
    "RForest_clf = RandomForestClassifier(n_estimators = 100)\n",
    "RForest_clf.fit(X_train, y_train)\n",
    "y_pred = RForest_clf.predict(X_test)\n",
    "accuracy = accuracy_score(y_test, y_pred)*100\n",
    "print(f'Accuracy: {accuracy}')"
   ]
  },
  {
   "cell_type": "code",
   "execution_count": null,
   "id": "92c2d25d",
   "metadata": {},
   "outputs": [],
   "source": []
  },
  {
   "cell_type": "code",
   "execution_count": 27,
   "id": "406f0f0c",
   "metadata": {},
   "outputs": [
    {
     "data": {
      "text/plain": [
       "array([2, 1, 1, 1, 1], dtype=int64)"
      ]
     },
     "execution_count": 27,
     "metadata": {},
     "output_type": "execute_result"
    }
   ],
   "source": [
    "y_pred[:5]"
   ]
  },
  {
   "cell_type": "code",
   "execution_count": 28,
   "id": "f9bfe344",
   "metadata": {},
   "outputs": [
    {
     "data": {
      "text/plain": [
       "array([[ 22,  21,   0,   0],\n",
       "       [ 10, 201,   2,  19],\n",
       "       [  0,   0, 119,   0],\n",
       "       [  0,  16,   0,  37]], dtype=int64)"
      ]
     },
     "execution_count": 28,
     "metadata": {},
     "output_type": "execute_result"
    }
   ],
   "source": [
    "from sklearn.metrics import confusion_matrix\n",
    "cm = confusion_matrix(y_test, y_pred)\n",
    "cm"
   ]
  },
  {
   "cell_type": "code",
   "execution_count": 29,
   "id": "0dfe3206",
   "metadata": {},
   "outputs": [
    {
     "data": {
      "image/png": "[encoded data removed]",
      "text/plain": [
       "<Figure size 1600x900 with 2 Axes>"
      ]
     },
     "metadata": {},
     "output_type": "display_data"
    }
   ],
   "source": [
    "plt.figure(figsize=(16,9))  # Adjust the figure size as needed\n",
    "sns.heatmap(cm, annot=True, cmap='coolwarm')\n",
    "plt.title('Confusion Matrix')\n",
    "plt.show()"
   ]
  },
  {
   "cell_type": "code",
   "execution_count": 30,
   "id": "14272cb6",
   "metadata": {},
   "outputs": [],
   "source": [
    "import joblib"
   ]
  },
  {
   "cell_type": "code",
   "execution_count": 31,
   "id": "fd1a6d19",
   "metadata": {},
   "outputs": [],
   "source": [
    "joblib.dump(RForest_clf,open('traffic_prediction.jb','wb'))"
   ]
  },
  {
   "cell_type": "code",
   "execution_count": 32,
   "id": "5b3a3bd3",
   "metadata": {},
   "outputs": [],
   "source": [
    "model=joblib.load(open('traffic_prediction.jb','rb'))"
   ]
  },
  {
   "cell_type": "code",
   "execution_count": 33,
   "id": "0b0dff7d",
   "metadata": {},
   "outputs": [
    {
     "name": "stdout",
     "output_type": "stream",
     "text": [
      "Running on local URL:  http://127.0.0.1:7860\n",
      "\n",
      "Could not create share link. Please check your internet connection or our status page: https://status.gradio.app.\n"
     ]
    },
    {
     "data": {
      "text/html": [
       "<div><iframe src=\"http://127.0.0.1:7860/\" width=\"100%\" height=\"500\" allow=\"autoplay; camera; microphone; clipboard-read; clipboard-write;\" frameborder=\"0\" allowfullscreen></iframe></div>"
      ],
      "text/plain": [
       "<IPython.core.display.HTML object>"
      ]
     },
     "metadata": {},
     "output_type": "display_data"
    },
    {
     "data": {
      "text/plain": []
     },
     "execution_count": 33,
     "metadata": {},
     "output_type": "execute_result"
    }
   ],
   "source": [
    "import gradio as gr\n",
    "import joblib\n",
    "\n",
    "def predict_expenses(\n",
    "    Date,Day_of_the_week,Total,\n",
    "    hour,am_pm,minute\n",
    "    ):\n",
    "    \n",
    "    model=joblib.load(open('traffic_prediction.jb','rb'))\n",
    "    \n",
    "    # Create dict array from parameters\n",
    "    data={\n",
    "        'Date':[Date],\n",
    "        'Day of the week':[Day_of_the_week],\n",
    "        'Total':[Total],\n",
    "        'AM/PM':[am_pm],\n",
    "        'hour':[hour],\n",
    "        'minute':[minute],\n",
    "    }\n",
    "    \n",
    "    xinp=pd.DataFrame(data)\n",
    "    \n",
    "    situation=model.predict(xinp)\n",
    "    if situation[0]==0:\n",
    "        return 'LOW TRAFFIC'\n",
    "    elif situation[0]==1:\n",
    "        return 'NORMAL TRAFFIC'\n",
    "    elif situation[0]==2:\n",
    "        return 'HEAVY TRAFFIC'\n",
    "    else:\n",
    "        return 'HIGH TRAFFIC'\n",
    "\n",
    "\n",
    "ui=gr.Interface(fn=predict_expenses,\n",
    "               \n",
    "               inputs=[\n",
    "        gr.Textbox(placeholder=\"DATE\",label=\"DATE\"),\n",
    "        gr.Textbox(placeholder=\"PLEASE ENTER IN NUMBERS (0-6)\",label=\"WEEK DAY\"),\n",
    "        gr.Textbox(placeholder=\"total vehicles\",label=\"TOTAL VEHICLES\"),\n",
    "        gr.Dropdown([0,1],label=\"AM:0 AND PM:1\"),\n",
    "        gr.Textbox(placeholder=\"PLEASE ENTER IN 24 HOURS FORMAT\",label=\"HOURS\"),\n",
    "        gr.Textbox(placeholder=\"minutes\",label=\"MINUTES\"),\n",
    "\n",
    "    ],\n",
    "    \n",
    "    title=\"TRAFFIC PREDICTOR\",\n",
    "\n",
    "    outputs=\"text\",\n",
    "    examples=[[24,5,229,0,7,15],[12,1,90,1,11,30]],)\n",
    "\n",
    "ui.launch(share=True)\n",
    "    "
   ]
  },
  {
   "cell_type": "code",
   "execution_count": null,
   "id": "9b13a78c",
   "metadata": {},
   "outputs": [],
   "source": []
  },
  {
   "cell_type": "code",
   "execution_count": null,
   "id": "20a84520",
   "metadata": {},
   "outputs": [],
   "source": []
  }
 ],
 "metadata": {
  "kernelspec": {
   "display_name": "Python 3 (ipykernel)",
   "language": "python",
   "name": "python3"
  },
  "language_info": {
   "codemirror_mode": {
    "name": "ipython",
    "version": 3
   },
   "file_extension": ".py",
   "mimetype": "text/x-python",
   "name": "python",
   "nbconvert_exporter": "python",
   "pygments_lexer": "ipython3",
   "version": "3.11.4"
  }
 },
 "nbformat": 4,
 "nbformat_minor": 5
}
